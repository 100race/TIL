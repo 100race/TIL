{
 "cells": [
  {
   "cell_type": "code",
   "execution_count": 10,
   "metadata": {},
   "outputs": [
    {
     "name": "stdout",
     "output_type": "stream",
     "text": [
      "첨자를 입력하세요\n",
      "12\n",
      "어떤 일이 있어도 마무리합니다.\n"
     ]
    },
    {
     "ename": "KeyError",
     "evalue": "'O'",
     "output_type": "error",
     "traceback": [
      "\u001b[1;31m---------------------------------------------------------------------------\u001b[0m",
      "\u001b[1;31mIndexError\u001b[0m                                Traceback (most recent call last)",
      "\u001b[1;32m<ipython-input-10-d653273a7e94>\u001b[0m in \u001b[0;36m<module>\u001b[1;34m\u001b[0m\n\u001b[0;32m      4\u001b[0m     \u001b[0mindex\u001b[0m \u001b[1;33m=\u001b[0m \u001b[0mint\u001b[0m\u001b[1;33m(\u001b[0m\u001b[0minput\u001b[0m\u001b[1;33m(\u001b[0m\u001b[1;33m)\u001b[0m\u001b[1;33m)\u001b[0m\u001b[1;33m\u001b[0m\u001b[1;33m\u001b[0m\u001b[0m\n\u001b[1;32m----> 5\u001b[1;33m     \u001b[0mprint\u001b[0m\u001b[1;33m(\u001b[0m\u001b[1;34m\"my_list[{0}]:{1}\"\u001b[0m\u001b[1;33m.\u001b[0m\u001b[0mformat\u001b[0m\u001b[1;33m(\u001b[0m\u001b[0mindex\u001b[0m\u001b[1;33m,\u001b[0m\u001b[0mmy_list\u001b[0m\u001b[1;33m[\u001b[0m\u001b[0mindex\u001b[0m\u001b[1;33m]\u001b[0m\u001b[1;33m)\u001b[0m\u001b[1;33m)\u001b[0m\u001b[1;33m\u001b[0m\u001b[1;33m\u001b[0m\u001b[0m\n\u001b[0m\u001b[0;32m      6\u001b[0m \u001b[1;32mexcept\u001b[0m \u001b[0mException\u001b[0m \u001b[1;32mas\u001b[0m \u001b[0merr\u001b[0m\u001b[1;33m:\u001b[0m\u001b[1;33m\u001b[0m\u001b[1;33m\u001b[0m\u001b[0m\n",
      "\u001b[1;31mIndexError\u001b[0m: list index out of range",
      "\nDuring handling of the above exception, another exception occurred:\n",
      "\u001b[1;31mKeyError\u001b[0m                                  Traceback (most recent call last)",
      "\u001b[1;32m<ipython-input-10-d653273a7e94>\u001b[0m in \u001b[0;36m<module>\u001b[1;34m\u001b[0m\n\u001b[0;32m      5\u001b[0m     \u001b[0mprint\u001b[0m\u001b[1;33m(\u001b[0m\u001b[1;34m\"my_list[{0}]:{1}\"\u001b[0m\u001b[1;33m.\u001b[0m\u001b[0mformat\u001b[0m\u001b[1;33m(\u001b[0m\u001b[0mindex\u001b[0m\u001b[1;33m,\u001b[0m\u001b[0mmy_list\u001b[0m\u001b[1;33m[\u001b[0m\u001b[0mindex\u001b[0m\u001b[1;33m]\u001b[0m\u001b[1;33m)\u001b[0m\u001b[1;33m)\u001b[0m\u001b[1;33m\u001b[0m\u001b[1;33m\u001b[0m\u001b[0m\n\u001b[0;32m      6\u001b[0m \u001b[1;32mexcept\u001b[0m \u001b[0mException\u001b[0m \u001b[1;32mas\u001b[0m \u001b[0merr\u001b[0m\u001b[1;33m:\u001b[0m\u001b[1;33m\u001b[0m\u001b[1;33m\u001b[0m\u001b[0m\n\u001b[1;32m----> 7\u001b[1;33m     \u001b[0mprint\u001b[0m\u001b[1;33m(\u001b[0m\u001b[1;34m\"예외가 발생했습니다. ({O})\"\u001b[0m\u001b[1;33m.\u001b[0m\u001b[0mformat\u001b[0m\u001b[1;33m(\u001b[0m\u001b[0merr\u001b[0m\u001b[1;33m)\u001b[0m\u001b[1;33m)\u001b[0m\u001b[1;33m\u001b[0m\u001b[1;33m\u001b[0m\u001b[0m\n\u001b[0m\u001b[0;32m      8\u001b[0m \u001b[1;32melse\u001b[0m\u001b[1;33m:\u001b[0m\u001b[1;33m\u001b[0m\u001b[1;33m\u001b[0m\u001b[0m\n\u001b[0;32m      9\u001b[0m     \u001b[0mprint\u001b[0m\u001b[1;33m(\u001b[0m\u001b[1;34m\"리스트의 요소 출력에 성공했습니다.\"\u001b[0m\u001b[1;33m)\u001b[0m\u001b[1;33m\u001b[0m\u001b[1;33m\u001b[0m\u001b[0m\n",
      "\u001b[1;31mKeyError\u001b[0m: 'O'"
     ]
    }
   ],
   "source": [
    "my_list=[1,2,3]\n",
    "try:\n",
    "    print(\"첨자를 입력하세요\")\n",
    "    index = int(input())\n",
    "    print(\"my_list[{0}]:{1}\".format(index,my_list[index]))\n",
    "except Exception as err:\n",
    "    print(\"예외가 발생했습니다. ({O})\".format(err))\n",
    "else:\n",
    "    print(\"리스트의 요소 출력에 성공했습니다.\")\n",
    "finally:\n",
    "    print(\"어떤 일이 있어도 마무리합니다.\")"
   ]
  },
  {
   "cell_type": "code",
   "execution_count": 5,
   "metadata": {},
   "outputs": [
    {
     "name": "stdout",
     "output_type": "stream",
     "text": [
      "첨자를 입력하세요:\n",
      "하이\n",
      "예외가 발생했습니다 (invalid literal for int() with base 10: '하이')\n",
      "어떤 일이 있어도 마무리합니다.\n"
     ]
    }
   ],
   "source": [
    "my_list = [1, 2, 3]\n",
    " \n",
    "try:\n",
    "    print(\"첨자를 입력하세요:\")\n",
    "    index = int(input())\n",
    "    print(\"my_list[{0}]: {1}\".format(index, my_list[index]))\n",
    "except Exception as err:\n",
    "    print(\"예외가 발생했습니다 ({0})\".format(err))\n",
    "else:\n",
    "    print(\"리스트의 요소 출력에 성공했습니다.\")\n",
    "finally:\n",
    "    print(\"어떤 일이 있어도 마무리합니다.\")"
   ]
  },
  {
   "cell_type": "code",
   "execution_count": 11,
   "metadata": {},
   "outputs": [],
   "source": [
    "def some_function2():\n",
    "    print(\"1~10사이의 수를 입력하세요\")\n",
    "    num = int(input())\n",
    "    if num <1 or num >10:\n",
    "        raise Exception(\"유효하지 않은 숫자입니다.:{}\".format(num))\n",
    "    else:\n",
    "        print(\"입력된 수는 {} 입니다.\".format(num))\n"
   ]
  },
  {
   "cell_type": "code",
   "execution_count": 12,
   "metadata": {},
   "outputs": [],
   "source": [
    "def some_function_caller():\n",
    "    try:\n",
    "        some_function2()\n",
    "    except Exception as err:\n",
    "        print(\"1)예외가 발생했습니다. {}\".format(err))\n",
    "        raise #raise는 예외를 던지는 느낌 throw. 얘에서 던지면 아래 에서 받음"
   ]
  },
  {
   "cell_type": "code",
   "execution_count": 13,
   "metadata": {},
   "outputs": [
    {
     "name": "stdout",
     "output_type": "stream",
     "text": [
      "1~10사이의 수를 입력하세요\n",
      "15\n",
      "1)예외가 발생했습니다. 유효하지 않은 숫자입니다.:15\n",
      "2) 예외가 발생했습니다. 유효하지 않은 숫자입니다.:15\n"
     ]
    }
   ],
   "source": [
    "try:\n",
    "    some_function_caller()\n",
    "except Exception as err:\n",
    "    print(\"2) 예외가 발생했습니다. {}\".format(err)) #12에서 던진 예외를 여기에서 받음"
   ]
  },
  {
   "cell_type": "code",
   "execution_count": null,
   "metadata": {},
   "outputs": [],
   "source": []
  }
 ],
 "metadata": {
  "kernelspec": {
   "display_name": "pydata",
   "language": "python",
   "name": "pydata"
  },
  "language_info": {
   "codemirror_mode": {
    "name": "ipython",
    "version": 3
   },
   "file_extension": ".py",
   "mimetype": "text/x-python",
   "name": "python",
   "nbconvert_exporter": "python",
   "pygments_lexer": "ipython3",
   "version": "3.7.10"
  }
 },
 "nbformat": 4,
 "nbformat_minor": 4
}
